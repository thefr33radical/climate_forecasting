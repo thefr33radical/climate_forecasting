## References
* https://hashrocket.com/blog/posts/a-friendly-introduction-to-convolutional-neural-networks
